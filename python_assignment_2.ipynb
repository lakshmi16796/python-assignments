{
  "nbformat": 4,
  "nbformat_minor": 0,
  "metadata": {
    "colab": {
      "name": "python assignment 2.ipynb",
      "provenance": [],
      "authorship_tag": "ABX9TyNSQNSdrXMPHq4Jk3O4nMYD",
      "include_colab_link": true
    },
    "kernelspec": {
      "name": "python3",
      "display_name": "Python 3"
    },
    "language_info": {
      "name": "python"
    }
  },
  "cells": [
    {
      "cell_type": "markdown",
      "metadata": {
        "id": "view-in-github",
        "colab_type": "text"
      },
      "source": [
        "<a href=\"https://colab.research.google.com/github/lakshmi16796/python-assignments/blob/main/python_assignment_2.ipynb\" target=\"_parent\"><img src=\"https://colab.research.google.com/assets/colab-badge.svg\" alt=\"Open In Colab\"/></a>"
      ]
    },
    {
      "cell_type": "code",
      "metadata": {
        "id": "MjYsiVtDbfc8"
      },
      "source": [
        "string = \"lakshmi\"\n",
        "dir(string)"
      ],
      "execution_count": null,
      "outputs": []
    },
    {
      "cell_type": "code",
      "metadata": {
        "colab": {
          "base_uri": "https://localhost:8080/"
        },
        "id": "7_SNjvSYpTJ2",
        "outputId": "495cf9fe-82f0-4ab1-f79a-3dc679d31c43"
      },
      "source": [
        "str1 = \"lakshmi is a girl\"\n",
        "str2 = \"lakshmi\"\n",
        "if str1.startswith(str2):\n",
        "  print(\"entry is a \", str2)\n",
        "str3 = str1.title()\n",
        "print(str3)"
      ],
      "execution_count": 6,
      "outputs": [
        {
          "output_type": "stream",
          "name": "stdout",
          "text": [
            "entry is a  lakshmi\n",
            "Lakshmi Is A Girl\n"
          ]
        }
      ]
    }
  ]
}