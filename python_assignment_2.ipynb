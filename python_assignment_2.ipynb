{
  "nbformat": 4,
  "nbformat_minor": 0,
  "metadata": {
    "colab": {
      "name": "python assignment 2.ipynb",
      "provenance": [],
      "collapsed_sections": [],
      "authorship_tag": "ABX9TyOmQvDBqRFZbIIyrlMVrcIK",
      "include_colab_link": true
    },
    "kernelspec": {
      "name": "python3",
      "display_name": "Python 3"
    },
    "language_info": {
      "name": "python"
    }
  },
  "cells": [
    {
      "cell_type": "markdown",
      "metadata": {
        "id": "view-in-github",
        "colab_type": "text"
      },
      "source": [
        "<a href=\"https://colab.research.google.com/github/lakshmi16796/python-assignments/blob/main/python_assignment_2.ipynb\" target=\"_parent\"><img src=\"https://colab.research.google.com/assets/colab-badge.svg\" alt=\"Open In Colab\"/></a>"
      ]
    },
    {
      "cell_type": "code",
      "metadata": {
        "colab": {
          "base_uri": "https://localhost:8080/"
        },
        "id": "1Ui8zPI6eJtf",
        "outputId": "3c05b28a-5ddc-47e9-cc15-75e7f007a00b"
      },
      "source": [
        "#convert string into list\n",
        "str1 = \"I am, lakshmi patil\"\n",
        "list1 = list(str1.split(','))\n",
        "list2 = str1.split()\n",
        "print(list1)\n",
        "print(list2)"
      ],
      "execution_count": null,
      "outputs": [
        {
          "output_type": "stream",
          "name": "stdout",
          "text": [
            "['I am', ' lakshmi patil']\n",
            "['I', 'am,', 'lakshmi', 'patil']\n"
          ]
        }
      ]
    },
    {
      "cell_type": "code",
      "metadata": {
        "colab": {
          "base_uri": "https://localhost:8080/"
        },
        "id": "uIziZzl5ihkj",
        "outputId": "87f136d3-df55-408b-dd20-e1e88773c664"
      },
      "source": [
        "#find the bug\n",
        "a = 2^5\n",
        "print(a)\n",
        "b = 2**5\n",
        "print(b)"
      ],
      "execution_count": null,
      "outputs": [
        {
          "output_type": "stream",
          "name": "stdout",
          "text": [
            "7\n",
            "32\n"
          ]
        }
      ]
    },
    {
      "cell_type": "code",
      "metadata": {
        "id": "9Niu4Ywti0yF"
      },
      "source": [
        "#calculator\n",
        "\n",
        "a = int(input(\"enter the first number \\t\"))\n",
        "b = int(input(\"enter the second number\\t\"))\n",
        "\n",
        "print(\"select the number for operation\")\n",
        "op = int(input(\" 1:add \\n 2:sub \\n 3:multiply \\n 4:divide \\n 5:modulus \\n 6:power \\n\"))\n",
        "if op == 1:\n",
        "    print(a+b)\n",
        "if op == 2:\n",
        "    print(a-b)\n",
        "if op == 3:\n",
        "    print(a*b)\n",
        "if op == 4:\n",
        "    print(a/b)\n",
        "if op == 5:\n",
        "    print(a%b)\n",
        "if op == 6:\n",
        "    print(a**b)"
      ],
      "execution_count": null,
      "outputs": []
    },
    {
      "cell_type": "code",
      "metadata": {
        "id": "f56fxoZhm9PK"
      },
      "source": [
        "#string calculator\n",
        "\n",
        "a = str(input(\"enter first string \\t\"))\n",
        "b = str(input(\"enter second string\\t\"))\n",
        "\n",
        "print(\"select the number for operation\")\n",
        "op = int(input(\" 1:concatinate \\n 2:reverse \\n 3:convert to list \\n 4:to upper case \\n 5:to lower case \\n \"))\n",
        "\n",
        "if op == 1:\n",
        "  str1 = a+b\n",
        "  print(str1)\n",
        "if op == 2:\n",
        "  print(a[::-1])\n",
        "  print(b[::-1])\n",
        "if op == 3:\n",
        "  list1 = a.split()\n",
        "  list2 = b.split()\n",
        "  print(list1)\n",
        "  print(list2)\n",
        "if op == 4:\n",
        "  print(a.upper())\n",
        "  print(b.upper())\n",
        "if op == 5:\n",
        "  print(a.lower())\n",
        "  print(bp.lower())\n",
        "\n",
        "\n"
      ],
      "execution_count": null,
      "outputs": []
    },
    {
      "cell_type": "code",
      "metadata": {
        "id": "cEhgNOgMoh7K"
      },
      "source": [
        "#wages per hour\n",
        "hr = float(input(\"please enter the number of hours \\n\"))\n",
        "rate = float(input(\"please enter rate per hour \\n\"))\n",
        "if hr > 50:\n",
        " gross_pay = float(50*rate + (hr - 50)*rate*2.5)\n",
        " print(gross_pay)\n",
        "\n",
        "else:\n",
        "  gross_pay = float(hr*rate)\n",
        "  print(gross_pay)\n",
        "\n"
      ],
      "execution_count": null,
      "outputs": []
    },
    {
      "cell_type": "code",
      "metadata": {
        "id": "Qes-OJfOpt25"
      },
      "source": [
        "#hobbie\n",
        "\n",
        "hobbies = [\"reading\", \"writing\", \"gardening\"]\n",
        "\n",
        "print(\"please enter three hobbies\")\n",
        "\n",
        "for i in range(3):\n",
        "  h1 = str(input())\n",
        "  hobbies.append(h1)\n",
        "\n",
        "print(hobbies)"
      ],
      "execution_count": null,
      "outputs": []
    },
    {
      "cell_type": "code",
      "metadata": {
        "id": "-72Kx0fBrXUZ"
      },
      "source": [
        "#divisibile by 5 and 7\n",
        "a = 45\n",
        "if (a%5 == 0) and (a%7 == 0):\n",
        "  print(\"divisible by both 5 and 7\")\n",
        "else:\n",
        "  print(\"not divisible\")"
      ],
      "execution_count": null,
      "outputs": []
    },
    {
      "cell_type": "code",
      "metadata": {
        "id": "PB1QnvISr6Tt",
        "colab": {
          "base_uri": "https://localhost:8080/"
        },
        "outputId": "387dc0b3-7425-46f2-c01b-80cc4d8d8d91"
      },
      "source": [
        "phone_book = {'jhon':[100,'john@gmail.com', 'banglore'],\n",
        "               'bob':[200, 'bob@gmail.com','delhi'],\n",
        "               'tom':[300, 'tom@gmail.com', 'mumbai']}\n",
        "print(phone_book)"
      ],
      "execution_count": 1,
      "outputs": [
        {
          "output_type": "stream",
          "name": "stdout",
          "text": [
            "{'jhon': [100, 'john@gmail.com', 'banglore'], 'bob': [200, 'bob@gmail.com', 'delhi'], 'tom': [300, 'tom@gmail.com', 'mumbai']}\n"
          ]
        }
      ]
    },
    {
      "cell_type": "code",
      "metadata": {
        "colab": {
          "base_uri": "https://localhost:8080/",
          "height": 128
        },
        "id": "RUEBFr38OBDV",
        "outputId": "4c898fdc-4af8-44c7-cb02-28071963e838"
      },
      "source": [
        "\n",
        "list1 = [x for i in range(10) if (x<8) and (x>2)]\n",
        "print(list1)"
      ],
      "execution_count": 5,
      "outputs": [
        {
          "output_type": "error",
          "ename": "SyntaxError",
          "evalue": "ignored",
          "traceback": [
            "\u001b[0;36m  File \u001b[0;32m\"<ipython-input-5-89d52d06f1c1>\"\u001b[0;36m, line \u001b[0;32m2\u001b[0m\n\u001b[0;31m    list1 = [for i in range(10) if (i<8) and (i>2)]\u001b[0m\n\u001b[0m               ^\u001b[0m\n\u001b[0;31mSyntaxError\u001b[0m\u001b[0;31m:\u001b[0m invalid syntax\n"
          ]
        }
      ]
    },
    {
      "cell_type": "code",
      "metadata": {
        "colab": {
          "base_uri": "https://localhost:8080/"
        },
        "id": "RPb-hsQ_PDqu",
        "outputId": "f1b85102-d082-4aa6-b13a-087fe9647ecc"
      },
      "source": [
        "import math\n",
        "signal_power = 9\n",
        "signal_noise = 10\n",
        "ratio = signal_power/signal_noise\n",
        "print(ratio)\n",
        "decibles = 10*math.log10(ratio)\n",
        "print(decibles)\n"
      ],
      "execution_count": 6,
      "outputs": [
        {
          "output_type": "stream",
          "name": "stdout",
          "text": [
            "0.9\n",
            "-0.4575749056067512\n"
          ]
        }
      ]
    },
    {
      "cell_type": "code",
      "metadata": {
        "colab": {
          "base_uri": "https://localhost:8080/"
        },
        "id": "CdO_w-r3Pgft",
        "outputId": "759952cd-ced4-4944-afcc-a57fa9d26cc6"
      },
      "source": [
        "list1 = [1,2,3,4,5]\n",
        "if 2 in list1:\n",
        "  print(\"present\")\n",
        "else:\n",
        "  print(\"not present\")"
      ],
      "execution_count": 7,
      "outputs": [
        {
          "output_type": "stream",
          "name": "stdout",
          "text": [
            "present\n"
          ]
        }
      ]
    },
    {
      "cell_type": "code",
      "metadata": {
        "colab": {
          "base_uri": "https://localhost:8080/"
        },
        "id": "Nxo2gLiEPum7",
        "outputId": "3255ee0b-3d0e-4aae-e7f7-9bc9bc546348"
      },
      "source": [
        "a = 10\n",
        "b = 20\n",
        "if (a is not b):\n",
        "  print(\"not same\")\n",
        "else:\n",
        "  print(\"same\")"
      ],
      "execution_count": 8,
      "outputs": [
        {
          "output_type": "stream",
          "name": "stdout",
          "text": [
            "not same\n"
          ]
        }
      ]
    },
    {
      "cell_type": "code",
      "metadata": {
        "colab": {
          "base_uri": "https://localhost:8080/"
        },
        "id": "4q116RSKP7mE",
        "outputId": "dcda5a88-4f8a-4b75-f84a-cf24f56371bb"
      },
      "source": [
        "count = 0\n",
        "while True:\n",
        "  print(\"hello\")\n",
        "  count = count+1\n",
        "  if count>=5:\n",
        "    break"
      ],
      "execution_count": 12,
      "outputs": [
        {
          "output_type": "stream",
          "name": "stdout",
          "text": [
            "hello\n",
            "hello\n",
            "hello\n",
            "hello\n",
            "hello\n"
          ]
        }
      ]
    },
    {
      "cell_type": "code",
      "metadata": {
        "colab": {
          "base_uri": "https://localhost:8080/"
        },
        "id": "J8qgQ_FIQXkr",
        "outputId": "d4b52b9b-9888-48cf-8568-ca8f5786ce6a"
      },
      "source": [
        "for i in range(10):\n",
        "  if i%2 == 0 and i !=0:\n",
        "    print(i)"
      ],
      "execution_count": 14,
      "outputs": [
        {
          "output_type": "stream",
          "name": "stdout",
          "text": [
            "2\n",
            "4\n",
            "6\n",
            "8\n"
          ]
        }
      ]
    },
    {
      "cell_type": "code",
      "metadata": {
        "id": "P_YE0yUHQlKr"
      },
      "source": [
        "for i in range(5,4571):\n",
        "  if (i%7 == 0) and (i%5 != 0):\n",
        "    print(i)"
      ],
      "execution_count": null,
      "outputs": []
    },
    {
      "cell_type": "code",
      "metadata": {
        "id": "Pip6b70GQ8zo"
      },
      "source": [
        "for i in range(0,101):\n",
        "  print(i, \"\\t\", ((i*(9/5)) + 32), \"\\n\")\n",
        " "
      ],
      "execution_count": null,
      "outputs": []
    }
  ]
}