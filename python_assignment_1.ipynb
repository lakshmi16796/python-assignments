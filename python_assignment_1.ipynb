{
  "nbformat": 4,
  "nbformat_minor": 0,
  "metadata": {
    "colab": {
      "name": "python assignment 1.ipynb",
      "provenance": [],
      "authorship_tag": "ABX9TyNXC10PX9G6pJN0kHW5JEsY",
      "include_colab_link": true
    },
    "kernelspec": {
      "name": "python3",
      "display_name": "Python 3"
    },
    "language_info": {
      "name": "python"
    }
  },
  "cells": [
    {
      "cell_type": "markdown",
      "metadata": {
        "id": "view-in-github",
        "colab_type": "text"
      },
      "source": [
        "<a href=\"https://colab.research.google.com/github/lakshmi16796/python-assignments/blob/main/python_assignment_1.ipynb\" target=\"_parent\"><img src=\"https://colab.research.google.com/assets/colab-badge.svg\" alt=\"Open In Colab\"/></a>"
      ]
    },
    {
      "cell_type": "code",
      "metadata": {
        "colab": {
          "base_uri": "https://localhost:8080/"
        },
        "id": "dfZI4UwVfkCk",
        "outputId": "39ef5d78-70e6-4ad1-b5f2-8b5ffbb30cf5"
      },
      "source": [
        "#arithematic operations\n",
        "distance = float(1000.0)\n",
        "time = float(143.5)\n",
        "speed = float((5/18)*100000/143.5)\n",
        "print(speed)"
      ],
      "execution_count": null,
      "outputs": [
        {
          "output_type": "stream",
          "name": "stdout",
          "text": [
            "193.5733643050716\n"
          ]
        }
      ]
    },
    {
      "cell_type": "code",
      "metadata": {
        "colab": {
          "base_uri": "https://localhost:8080/"
        },
        "id": "zY33kF1Tg652",
        "outputId": "e9170eea-0616-44ae-ef2e-8e31bec77f9e"
      },
      "source": [
        "#average time per mile\n",
        "\n",
        "distance = float(1000*1.61)\n",
        "time = float(143.5)\n",
        "speed = float(distance/time)\n",
        "time_taken = speed*distance\n",
        "print(\"time take is\", time_taken, \"minutes\")"
      ],
      "execution_count": null,
      "outputs": [
        {
          "output_type": "stream",
          "name": "stdout",
          "text": [
            "time take is 18063.414634146342 minutes\n"
          ]
        }
      ]
    },
    {
      "cell_type": "code",
      "metadata": {
        "colab": {
          "base_uri": "https://localhost:8080/"
        },
        "id": "5yWdF-74iGDk",
        "outputId": "fa73d73d-fab9-4bd5-9264-593e78fe743d"
      },
      "source": [
        "cover_price = float (577.95)\n",
        "\n",
        "cost = float((577.95+150) + (577.95+50)*59)\n",
        "discount = float(cost*0.4)\n",
        "final_cost = float(cost-discount)\n",
        "print(\"final cost is\", final_cost)\n"
      ],
      "execution_count": null,
      "outputs": [
        {
          "output_type": "stream",
          "name": "stdout",
          "text": [
            "final cost is 22666.199999999997\n"
          ]
        }
      ]
    },
    {
      "cell_type": "code",
      "metadata": {
        "colab": {
          "base_uri": "https://localhost:8080/"
        },
        "id": "KMP1bWvOjwKn",
        "outputId": "7ef10aeb-7f67-4954-8c32-d1d246a0da37"
      },
      "source": [
        "#centigrade to faranhite\n",
        "centigrade = float(input(\"please enter temperature in centigrade \\t\"))\n",
        "faranhite = float(centigrade*1.8+32)\n",
        "print(faranhite)"
      ],
      "execution_count": null,
      "outputs": [
        {
          "output_type": "stream",
          "name": "stdout",
          "text": [
            "please enter temperature in centigrade \t0\n",
            "32.0\n"
          ]
        }
      ]
    },
    {
      "cell_type": "code",
      "metadata": {
        "colab": {
          "base_uri": "https://localhost:8080/"
        },
        "id": "M1wCCg_Hk1Ak",
        "outputId": "26ceaa13-3281-4666-eed0-4a90ff4041fd"
      },
      "source": [
        "my_float = float(2.4)\n",
        "print(my_float)"
      ],
      "execution_count": null,
      "outputs": [
        {
          "output_type": "stream",
          "name": "stdout",
          "text": [
            "2.4\n"
          ]
        }
      ]
    },
    {
      "cell_type": "code",
      "metadata": {
        "colab": {
          "base_uri": "https://localhost:8080/"
        },
        "id": "j-4GokDeludM",
        "outputId": "485404ef-a6d8-4d2f-9e3c-e0ba23649c60"
      },
      "source": [
        "my_neg = -5\n",
        "print(my_neg)"
      ],
      "execution_count": null,
      "outputs": [
        {
          "output_type": "stream",
          "name": "stdout",
          "text": [
            "-5\n"
          ]
        }
      ]
    },
    {
      "cell_type": "code",
      "metadata": {
        "colab": {
          "base_uri": "https://localhost:8080/"
        },
        "id": "xymKsP4hl0_0",
        "outputId": "81d3e460-362a-4f7c-a924-d8ad3474de1d"
      },
      "source": [
        "complex_num = complex(4,5)\n",
        "print(complex_num)\n",
        "\n",
        "c1 = 5+4j\n",
        "print(c1)\n",
        "print(type(c1))"
      ],
      "execution_count": null,
      "outputs": [
        {
          "output_type": "stream",
          "name": "stdout",
          "text": [
            "(4+5j)\n",
            "(5+4j)\n",
            "<class 'complex'>\n"
          ]
        }
      ]
    },
    {
      "cell_type": "code",
      "metadata": {
        "colab": {
          "base_uri": "https://localhost:8080/"
        },
        "id": "8Smc_GmqmeWY",
        "outputId": "09055c4b-ad60-469b-ffe7-341a2cf28681"
      },
      "source": [
        "#add complex numbers\n",
        "c1 = complex(5,6)\n",
        "c2 = complex(5,7)\n",
        "c3 = complex(c1+c2)\n",
        "print(c3)\n",
        "\n",
        "c6 = complex(c1/c2)\n",
        "print(c6)\n",
        "\n",
        "c4 = complex(c1-c2)\n",
        "print(c4)\n",
        "\n",
        "c5 = complex(c1*c2)\n",
        "print(c5)"
      ],
      "execution_count": null,
      "outputs": [
        {
          "output_type": "stream",
          "name": "stdout",
          "text": [
            "(10+13j)\n",
            "(0.9054054054054054-0.06756756756756759j)\n",
            "-1j\n",
            "(-17+65j)\n"
          ]
        }
      ]
    },
    {
      "cell_type": "code",
      "metadata": {
        "colab": {
          "base_uri": "https://localhost:8080/",
          "height": 129
        },
        "id": "VbdkCWK1n4Km",
        "outputId": "990f58da-93cc-4ba6-eb52-2b2691df375e"
      },
      "source": [
        "break = 15\n"
      ],
      "execution_count": null,
      "outputs": [
        {
          "output_type": "error",
          "ename": "SyntaxError",
          "evalue": "ignored",
          "traceback": [
            "\u001b[0;36m  File \u001b[0;32m\"<ipython-input-23-03eb22a99bfb>\"\u001b[0;36m, line \u001b[0;32m1\u001b[0m\n\u001b[0;31m    break = 15\u001b[0m\n\u001b[0m          ^\u001b[0m\n\u001b[0;31mSyntaxError\u001b[0m\u001b[0;31m:\u001b[0m invalid syntax\n"
          ]
        }
      ]
    },
    {
      "cell_type": "code",
      "metadata": {
        "colab": {
          "base_uri": "https://localhost:8080/"
        },
        "id": "1Kfg6SGwoDPT",
        "outputId": "6a35d883-9409-44b9-ce2c-8c25a7de45d6"
      },
      "source": [
        "result = \"hello\"\n",
        "print(result[0])"
      ],
      "execution_count": null,
      "outputs": [
        {
          "output_type": "stream",
          "name": "stdout",
          "text": [
            "h\n"
          ]
        }
      ]
    },
    {
      "cell_type": "code",
      "metadata": {
        "colab": {
          "base_uri": "https://localhost:8080/"
        },
        "id": "TjrcLzs7oQrH",
        "outputId": "6bac9e1e-7617-4623-e0ee-ba7d5242b639"
      },
      "source": [
        "#greetings\n",
        "name = input(\"please enter your name\")\n",
        "print(\"hearty welcome \\t\", name)"
      ],
      "execution_count": null,
      "outputs": [
        {
          "output_type": "stream",
          "name": "stdout",
          "text": [
            "please enter your namelakshmi\n",
            "hearty welcome \t lakshmi\n"
          ]
        }
      ]
    },
    {
      "cell_type": "code",
      "metadata": {
        "colab": {
          "base_uri": "https://localhost:8080/"
        },
        "id": "OaDCZ2FkonpU",
        "outputId": "331004aa-a234-4139-9e7f-04132602f455"
      },
      "source": [
        "#string operations\n",
        "quote = \"When the seed looses completely in the earth, Only then can it become a Tree\"\n",
        "count =0\n",
        "new_quote = \"\"\n",
        "for i in range(0,len(quote)):\n",
        "  count = count + 1\n",
        "print(count)\n",
        "\n",
        "print(len(quote))\n",
        "\n",
        "print(quote.upper())\n",
        "\n",
        "for i in quote:\n",
        "  if(i.islower()) == True:\n",
        "    new_quote+=(i.upper())\n",
        "  else:\n",
        "    new_quote+=i\n",
        "\n",
        "print(new_quote)\n",
        "\n"
      ],
      "execution_count": null,
      "outputs": [
        {
          "output_type": "stream",
          "name": "stdout",
          "text": [
            "76\n",
            "76\n",
            "WHEN THE SEED LOOSES COMPLETELY IN THE EARTH, ONLY THEN CAN IT BECOME A TREE\n",
            "WHEN THE SEED LOOSES COMPLETELY IN THE EARTH, ONLY THEN CAN IT BECOME A TREE\n"
          ]
        }
      ]
    },
    {
      "cell_type": "code",
      "metadata": {
        "colab": {
          "base_uri": "https://localhost:8080/",
          "height": 197
        },
        "id": "Ybc1r7ozskat",
        "outputId": "caff7d20-e736-437c-fcc2-38f37c1ca878"
      },
      "source": [
        "c = a+b\n",
        "a = 10\n",
        "b = 12"
      ],
      "execution_count": null,
      "outputs": [
        {
          "output_type": "error",
          "ename": "NameError",
          "evalue": "ignored",
          "traceback": [
            "\u001b[0;31m---------------------------------------------------------------------------\u001b[0m",
            "\u001b[0;31mNameError\u001b[0m                                 Traceback (most recent call last)",
            "\u001b[0;32m<ipython-input-42-998f25144341>\u001b[0m in \u001b[0;36m<module>\u001b[0;34m()\u001b[0m\n\u001b[0;32m----> 1\u001b[0;31m \u001b[0mc\u001b[0m \u001b[0;34m=\u001b[0m \u001b[0ma\u001b[0m\u001b[0;34m+\u001b[0m\u001b[0mb\u001b[0m\u001b[0;34m\u001b[0m\u001b[0;34m\u001b[0m\u001b[0m\n\u001b[0m\u001b[1;32m      2\u001b[0m \u001b[0ma\u001b[0m \u001b[0;34m=\u001b[0m \u001b[0;36m10\u001b[0m\u001b[0;34m\u001b[0m\u001b[0;34m\u001b[0m\u001b[0m\n\u001b[1;32m      3\u001b[0m \u001b[0mb\u001b[0m \u001b[0;34m=\u001b[0m \u001b[0;36m12\u001b[0m\u001b[0;34m\u001b[0m\u001b[0;34m\u001b[0m\u001b[0m\n",
            "\u001b[0;31mNameError\u001b[0m: name 'a' is not defined"
          ]
        }
      ]
    },
    {
      "cell_type": "markdown",
      "metadata": {
        "id": "2jiItbJLNdZJ"
      },
      "source": [
        "intialisation of the variable is happening after the opertion, it throws an error"
      ]
    },
    {
      "cell_type": "code",
      "metadata": {
        "colab": {
          "base_uri": "https://localhost:8080/"
        },
        "id": "nl-E4pvGs0_r",
        "outputId": "339b7c08-63e7-4aeb-e55a-fea4edbc9da7"
      },
      "source": [
        "c = 4+45j\n",
        "abso = abs(c)\n",
        "print(abso)\n",
        "\n",
        "r = 4.5\n",
        "print(round(r))"
      ],
      "execution_count": null,
      "outputs": [
        {
          "output_type": "stream",
          "name": "stdout",
          "text": [
            "45.17742799230607\n",
            "4\n"
          ]
        }
      ]
    },
    {
      "cell_type": "code",
      "metadata": {
        "colab": {
          "base_uri": "https://localhost:8080/"
        },
        "id": "zE9Sa52Vuki1",
        "outputId": "803c4e9b-4111-4687-806c-00a0aad72cae"
      },
      "source": [
        "quote = \"hello world.\"\n",
        "print(quote.replace(\".\", \"!\"))"
      ],
      "execution_count": null,
      "outputs": [
        {
          "output_type": "stream",
          "name": "stdout",
          "text": [
            "hello world!\n"
          ]
        }
      ]
    },
    {
      "cell_type": "code",
      "metadata": {
        "id": "RX-C8gaSvUG2"
      },
      "source": [
        ""
      ],
      "execution_count": null,
      "outputs": []
    }
  ]
}